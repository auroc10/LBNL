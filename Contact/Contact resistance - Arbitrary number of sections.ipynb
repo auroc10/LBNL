{
 "cells": [
  {
   "cell_type": "code",
   "execution_count": 1,
   "metadata": {},
   "outputs": [],
   "source": [
    "# Import libraries to use \n",
    "import numpy as np\n",
    "import matplotlib.pyplot as plt\n",
    "import math       \n",
    "import scipy as sp\n",
    "import scipy.optimize\n",
    "import subprocess # Library to run ngspice on shell\n",
    "import seaborn as sns # Library to change the color palette for plots\n",
    "import random\n",
    "import timeit # To time computing time\n",
    "import warnings # To supress warnings\n",
    "import string"
   ]
  },
  {
   "cell_type": "code",
   "execution_count": 36,
   "metadata": {},
   "outputs": [],
   "source": [
    "def readdata(filename,Labels,Data_points):\n",
    "    out = subprocess.run(['ngspice', '-b', filename], \n",
    "                         stdout=subprocess.PIPE,  stderr=subprocess.PIPE)\n",
    "    \n",
    "    name = filename[:-4]+'.txt' # Name of the file to save output from ngspice\n",
    "    \n",
    "    # This saves output data in txt file\n",
    "    with open(name, 'w') as output:\n",
    "        for line in out.stdout.decode('ascii').split('\\n'):\n",
    "            output.write(line+'\\n') # Writing output lines \n",
    "    \n",
    "    # We get the data into an array \n",
    "    fill = np.zeros (len(Labels), dtype=int)\n",
    "    \n",
    "    f = open (name, 'r');\n",
    "    src = []\n",
    "    while True:  \n",
    "        line = f.readline()\n",
    "        if not line: break  # end of file\n",
    "        if line[0] == '#':\n",
    "            continue # treat next line\n",
    "        src.append(line)\n",
    "\n",
    "    #print(src)\n",
    "    data = np.zeros ([Data_points, len(Labels)])\n",
    "\n",
    "    for line in src:\n",
    "        #print line\n",
    "        # Here we initialize the ngspice data array\n",
    "        '''\n",
    "        if line.startswith('No.'):\n",
    "            temp_list = line.split(\":\")\n",
    "            Data_points = int(temp_list[-1])\n",
    "            #print(Data_points)\n",
    "            data = np.zeros ([Data_points, len(Labels)])\n",
    "            #print(data.shape)\n",
    "        '''\n",
    "        \n",
    "        \n",
    "        # Here we determine the indexes for the current columns\n",
    "        if line.startswith('Index'):\n",
    "            temp_list = [str(x) for x in line.split()]\n",
    "            #print(temp_list)\n",
    "            n_columns = len (temp_list)\n",
    "            index = np.zeros(n_columns, dtype = int)\n",
    "\n",
    "            for j in range(n_columns):\n",
    "                index [j] = Labels.index(temp_list[j])\n",
    "            #print index\n",
    "\n",
    "        # if the line starts with a number, we treat it as the data line\n",
    "        if line[0].isdigit():\n",
    "            temp_data = [float(x) for x in line.split()]\n",
    "\n",
    "            for c in range(n_columns):\n",
    "                r = fill[c]\n",
    "                #print(r, index [c])\n",
    "\n",
    "                data [r][index[c]] = temp_data [c]\n",
    "\n",
    "                fill [c] = fill [c] + 1\n",
    "                if fill [c] == Data_points:\n",
    "                    fill [c] = 0\n",
    "    return data"
   ]
  },
  {
   "cell_type": "code",
   "execution_count": 29,
   "metadata": {},
   "outputs": [],
   "source": [
    "# Definition to generate netlist for an arbitraty number of sections\n",
    "\n",
    "def generatingnetlist(filename,ns,Ic,Rc):\n",
    "    nodes = ((ns+1)*2)+1\n",
    "    # Printing the labels of the elements to read current for this case\n",
    "    Labels = ['Index','i-sweep']\n",
    "\n",
    "    for i in range(nodes):\n",
    "        Labels.append(f'v({i+1})')\n",
    "    for i in range(ns+1):\n",
    "        Labels.append(f'@r{i+1}[i]')\n",
    "    for i in range(ns*2):\n",
    "        Labels.append(f'@b{i+1}[i]')\n",
    "\n",
    "    probe = ''\n",
    "    for i in range(len(Labels)-2):\n",
    "        probe = probe + Labels[i+2]+' '\n",
    "    \n",
    "    # Patameters for the model\n",
    "    Rt = 5E-7 # Terminal resistance\n",
    "    n = 30 # n-value\n",
    "    Vc = 100E-6 # Voltage criterion\n",
    "    Imax = 250 # Maximum current\n",
    "    step = 1 # Step current\n",
    "    Data_points = int(Imax/step + 1)\n",
    "\n",
    "    # Start writing netlist\n",
    "    with open(filename, 'w') as output:\n",
    "        output.write(f'* Netlist for 2 tapes with contact resistance\\n')\n",
    "        output.write('I1 0 1 100\\n') # Current source\n",
    "\n",
    "        # Terminal resistances\n",
    "        output.write(f'rt1 1 2 {Rt/2}\\n')\n",
    "        output.write(f'rt2 {ns+2} 0 {Rt/2}\\n')\n",
    "        output.write(f'rt3 1 {ns+3} {Rt/2}\\n')\n",
    "        output.write(f'rt4 {nodes} 0 {Rt/2}\\n')\n",
    "\n",
    "        # Contact resistances\n",
    "        for i in range(ns+1):\n",
    "            output.write(f'r{i+1} {ns+3+i} {i+2} {Rc[i]}\\n')\n",
    "\n",
    "        # Voltage sources\n",
    "        for i in range(ns*2):\n",
    "            if i<ns:\n",
    "                output.write(f'b{i+1} {i+2} {i+3} V={Vc/ns}*pow((I(b{i+1})/{Ic[0,i]}),{n})\\n')\n",
    "            else:\n",
    "                output.write(f'b{i+1} {i+3} {i+4} V={Vc/ns}*pow((I(b{i+1})/{Ic[1,i-ns]}),{n})\\n')\n",
    "        output.write('.options savecurrents\\n')\n",
    "        output.write(f'.dc I1 0 {Imax} 1\\n')\n",
    "        output.write('.print dc '+probe+'\\n')\n",
    "        output.write('.end\\n')\n",
    "    return Labels,Data_points\n",
    "        "
   ]
  },
  {
   "cell_type": "code",
   "execution_count": 58,
   "metadata": {},
   "outputs": [],
   "source": [
    "# Fitting model including resistance \n",
    "def model_func(I,Rt,Ic,n):\n",
    "    V0 = 10E-6 # Considering the criterion 100uV/m with length = 1 m\n",
    "    return Rt*I+V0*(I/Ic)**n\n",
    "\n",
    "def fit_exp(I,V,Rt0,Ic0,n0): #(Rt0,Ic0,n0) are guessed initial values \n",
    "    opt_parms, parm_cov = sp.optimize.curve_fit(model_func, I, V,(Rt0,Ic0,n0))\n",
    "    Rt,Ic,n = opt_parms\n",
    "    return Rt,Ic,n"
   ]
  },
  {
   "cell_type": "markdown",
   "metadata": {},
   "source": [
    "# Comparing different number of sections\n",
    "Assuptions:\n",
    "- Considering 2 tapes\n",
    "- Uniform Ic per tape (Ic1 = 100 A and Ic2 = 50)\n",
    "- Contact resistance Rc is constant = 1E-12 Ohms"
   ]
  },
  {
   "cell_type": "code",
   "execution_count": 60,
   "metadata": {},
   "outputs": [
    {
     "data": {
      "text/plain": [
       "<matplotlib.legend.Legend at 0x1a252b96d8>"
      ]
     },
     "execution_count": 60,
     "metadata": {},
     "output_type": "execute_result"
    },
    {
     "data": {
      "image/png": "[encoded data removed]",
      "text/plain": [
       "<Figure size 432x288 with 1 Axes>"
      ]
     },
     "metadata": {
      "needs_background": "light"
     },
     "output_type": "display_data"
    }
   ],
   "source": [
    "%matplotlib inline \n",
    "\n",
    "nsections = np.array([5,10,20,30,50])\n",
    "\n",
    "for i in range(len(nsections)):\n",
    "    ns = nsections[i] # Number of sections\n",
    "    filename = f'{ns} sections.cir'\n",
    "    Ic = np.zeros((ntape,ns))\n",
    "\n",
    "    Ic[0,:] = 100\n",
    "    Ic[1,:] = 50\n",
    "    #print (Ic)\n",
    "    Rc = np.zeros(ns+1)+1E-12\n",
    "    #print(Rc)\n",
    "\n",
    "    Labels,data_points = generatingnetlist(filename,ns,Ic,Rc)\n",
    "    data = readdata(filename,Labels,data_points)\n",
    "\n",
    "    plt.plot(data[:,1],data[:,2],label = Labels[2]+f' {ns} sections')\n",
    "\n",
    "plt.ticklabel_format(style='sci', axis='y', scilimits=(0,0))\n",
    "plt.xlabel('I_cable (A)')\n",
    "plt.ylabel('Voltage (V)')\n",
    "plt.title('Terminal voltage')\n",
    "plt.ylim(0,100E-6)\n",
    "plt.xlim(0,150)\n",
    "plt.grid()\n",
    "plt.legend()\n",
    "\n"
   ]
  },
  {
   "cell_type": "markdown",
   "metadata": {},
   "source": [
    "### Conclusions\n",
    "- In terms of the terminal voltage there is no difference in considering one or more sections for each tape. \n",
    "\n",
    "# Tape divided in n sections with different values for Ic along the tape\n",
    "\n",
    "Assuptions:\n",
    "- Considering 2 tapes\n",
    "- Random distribution for Ic with standard deviation of 10% (mean value for tape 1 is 100 A and 50 A for tape 2).\n",
    "- Contact resistance Rc is constant = 1E-12 Ohms"
   ]
  },
  {
   "cell_type": "code",
   "execution_count": 82,
   "metadata": {},
   "outputs": [
    {
     "name": "stdout",
     "output_type": "stream",
     "text": [
      "2.5012555210893097e-07 134.14490381039255 30.40670528175807\n",
      "Fit: Rt = 2.5012555210893097e-07, Ic = 134.14490381039255, n = 30.40670528175807, Fit-error = 6.901681840904477e-07\n"
     ]
    },
    {
     "data": {
      "image/png": "[encoded data removed]",
      "text/plain": [
       "<Figure size 432x288 with 1 Axes>"
      ]
     },
     "metadata": {
      "needs_background": "light"
     },
     "output_type": "display_data"
    }
   ],
   "source": [
    "%matplotlib inline \n",
    "\n",
    "nsections = np.array([10])\n",
    "sigma = np.array([10])\n",
    "\n",
    "for i in range(len(nsections)):\n",
    "    ns = nsections[i] # Number of sections\n",
    "    filename = f'{ns} sections.cir'\n",
    "    Ic = np.zeros((ntape,ns))\n",
    "    mu1 = 100\n",
    "    mu2 = 50\n",
    "    Ic[0,:] = np.random.normal(mu1, mu1/10, ns)\n",
    "    Ic[1,:] = np.random.normal(mu2, mu2/10, ns)\n",
    "    #print (Ic)\n",
    "    Rc = np.zeros(ns+1)+1E-12\n",
    "    #print(Rc)\n",
    "\n",
    "    Labels,data_points = generatingnetlist(filename,ns,Ic,Rc)\n",
    "    data = readdata(filename,Labels,data_points)\n",
    "\n",
    "'''\n",
    "    plt.plot(data[:,1],data[:,2],label = Labels[2]+f' {ns} sections')\n",
    "\n",
    "plt.ticklabel_format(style='sci', axis='y', scilimits=(0,0))\n",
    "plt.xlabel('I_cable (A)')\n",
    "plt.ylabel('Voltage (V)')\n",
    "plt.title('Terminal voltage')\n",
    "plt.ylim(0,100E-6)\n",
    "plt.xlim(0,150)\n",
    "plt.grid()\n",
    "plt.legend()\n",
    "'''\n",
    "\n",
    "Vt1 = data[:,2]\n",
    "Icable1 = data[:,1]\n",
    "#plt.plot(Icable1,label = 'V terminal')\n",
    "\n",
    "Vt_lim = []\n",
    "Icable_lim = []\n",
    "# Voltage limit\n",
    "for l in range(len(Vt1)):\n",
    "    if Vt1[l] <= 100e-6: # Limit of the total voltage\n",
    "        Vt_lim.append(Vt1[l])\n",
    "        Icable_lim.append(Icable1[l])\n",
    "\n",
    "Vt_lim = np.array(Vt_lim)\n",
    "Icable_lim = np.array(Icable_lim)\n",
    "    \n",
    "# Exponential fitting\n",
    "Rt0,Ic0,n0 = 0.5E-6,150,30 # Initial values to fit exponential part\n",
    "Rt_e,Ic_e,n_e = fit_exp(Icable_lim,Vt_lim,Rt0,Ic0,n0)\n",
    "print(Rt_e,Ic_e,n_e)\n",
    "    \n",
    "# Getting curve from fitting \n",
    "Vt_fit_exp = model_func(Icable_lim,Rt_e,Ic_e,n_e)\n",
    "\n",
    "# Calculating fitting error\n",
    "Error = np.sqrt(sum((Vt_lim-Vt_fit_exp)**2))\n",
    "    \n",
    "# Plotting\n",
    "print(f'Fit: Rt = {Rt_e}, Ic = {Ic_e}, n = {n_e}, Fit-error = {Error}')\n",
    "plt.plot(Icable_lim,Vt_lim,'.',label = f'Rc {Rc[0]} {ns}S')\n",
    "plt.plot(Icable_lim,Vt_fit_exp,label = f'Fit Rc {Rc[0]} {ns}S')\n",
    "\n",
    "plt.xlabel('I_cable (A)')\n",
    "plt.ylabel('Voltage (V)')\n",
    "\n",
    "plt.ticklabel_format(style='sci', axis='y', scilimits=(0,0))\n",
    "plt.legend()\n",
    "plt.grid()"
   ]
  },
  {
   "cell_type": "markdown",
   "metadata": {},
   "source": [
    "# Tape divided in n sections with different values for Rc\n",
    "\n",
    "Assuptions:\n",
    "- Considering 2 tapes\n",
    "- Uniform Ic per tape (Ic1 = 100 A and Ic2 = 50)\n",
    "- Contact resistance Rc is varying with mean value 1E-12 Ohms and standard deviation of 10%."
   ]
  },
  {
   "cell_type": "code",
   "execution_count": 79,
   "metadata": {},
   "outputs": [
    {
     "name": "stdout",
     "output_type": "stream",
     "text": [
      "2.499992243823655e-07 139.0098835201944 30.035578117086892\n",
      "Fit: Rt = 2.499992243823655e-07, Ic = 139.0098835201944, n = 30.035578117086892, Fit-error = 1.4843950317236491e-09\n"
     ]
    },
    {
     "data": {
      "image/png": "[encoded data removed]",
      "text/plain": [
       "<Figure size 432x288 with 1 Axes>"
      ]
     },
     "metadata": {
      "needs_background": "light"
     },
     "output_type": "display_data"
    }
   ],
   "source": [
    "%matplotlib inline \n",
    "\n",
    "nsections = np.array([10])\n",
    "\n",
    "for i in range(len(nsections)):\n",
    "    ns = nsections[i] # Number of sections\n",
    "    filename = f'{ns} sections.cir'\n",
    "    Ic = np.zeros((ntape,ns))\n",
    "    Ic[0,:] = 100\n",
    "    Ic[1,:] = 50\n",
    "    #print (Ic)\n",
    "    mu = 1E-12\n",
    "    Rc = np.random.normal(mu, mu/10, ns+1)\n",
    "    #print(Rc)\n",
    "\n",
    "    Labels,data_points = generatingnetlist(filename,ns,Ic,Rc)\n",
    "    data = readdata(filename,Labels,data_points)\n",
    "\n",
    "'''\n",
    "    plt.plot(data[:,1],data[:,2],label = Labels[2]+f' {ns} sections')\n",
    "\n",
    "plt.ticklabel_format(style='sci', axis='y', scilimits=(0,0))\n",
    "plt.xlabel('I_cable (A)')\n",
    "plt.ylabel('Voltage (V)')\n",
    "plt.title('Terminal voltage')\n",
    "plt.ylim(0,100E-6)\n",
    "plt.xlim(0,150)\n",
    "plt.grid()\n",
    "plt.legend()\n",
    "'''\n",
    "\n",
    "Vt1 = data[:,2]\n",
    "Icable1 = data[:,1]\n",
    "#plt.plot(Icable1,label = 'V terminal')\n",
    "\n",
    "Vt_lim = []\n",
    "Icable_lim = []\n",
    "# Voltage limit\n",
    "for l in range(len(Vt1)):\n",
    "    if Vt1[l] <= 100e-6: # Limit of the total voltage\n",
    "        Vt_lim.append(Vt1[l])\n",
    "        Icable_lim.append(Icable1[l])\n",
    "\n",
    "Vt_lim = np.array(Vt_lim)\n",
    "Icable_lim = np.array(Icable_lim)\n",
    "    \n",
    "# Exponential fitting\n",
    "Rt0,Ic0,n0 = 0.5E-6,150,30 # Initial values to fit exponential part\n",
    "Rt_e,Ic_e,n_e = fit_exp(Icable_lim,Vt_lim,Rt0,Ic0,n0)\n",
    "print(Rt_e,Ic_e,n_e)\n",
    "    \n",
    "# Getting curve from fitting \n",
    "Vt_fit_exp = model_func(Icable_lim,Rt_e,Ic_e,n_e)\n",
    "\n",
    "# Calculating fitting error\n",
    "Error = np.sqrt(sum((Vt_lim-Vt_fit_exp)**2))\n",
    "    \n",
    "# Plotting\n",
    "print(f'Fit: Rt = {Rt_e}, Ic = {Ic_e}, n = {n_e}, Fit-error = {Error}')\n",
    "plt.plot(Icable_lim,Vt_lim,'.',label = f'V(1) {ns}S')\n",
    "plt.plot(Icable_lim,Vt_fit_exp,label = f'Fit V(1) {ns}S')\n",
    "\n",
    "plt.xlabel('I_cable (A)')\n",
    "plt.ylabel('Voltage (V)')\n",
    "\n",
    "plt.ticklabel_format(style='sci', axis='y', scilimits=(0,0))\n",
    "plt.legend()\n",
    "plt.grid()"
   ]
  },
  {
   "cell_type": "code",
   "execution_count": null,
   "metadata": {},
   "outputs": [],
   "source": []
  }
 ],
 "metadata": {
  "kernelspec": {
   "display_name": "Python 3",
   "language": "python",
   "name": "python3"
  },
  "language_info": {
   "codemirror_mode": {
    "name": "ipython",
    "version": 3
   },
   "file_extension": ".py",
   "mimetype": "text/x-python",
   "name": "python",
   "nbconvert_exporter": "python",
   "pygments_lexer": "ipython3",
   "version": "3.7.1"
  }
 },
 "nbformat": 4,
 "nbformat_minor": 2
}
