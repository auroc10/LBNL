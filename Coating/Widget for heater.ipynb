{
 "cells": [
  {
   "cell_type": "code",
   "execution_count": 1,
   "metadata": {},
   "outputs": [],
   "source": [
    "# Import libraries to use \n",
    "import numpy as np\n",
    "import matplotlib.pyplot as plt\n",
    "import math       \n",
    "import scipy as sp\n",
    "import scipy.optimize\n",
    "import subprocess # Library to run ngspice on shell\n",
    "import seaborn as sns # Library to change the color palette for plots\n",
    "import random\n",
    "import timeit # To time computing time\n",
    "import warnings # To supress warnings\n",
    "import string\n",
    "import pandas as pd\n",
    "from ipywidgets import interact, interactive, fixed, interact_manual\n",
    "import ipywidgets as widgets\n",
    "import matplotlib\n",
    "matplotlib.rc('xtick', labelsize=14) \n",
    "matplotlib.rc('ytick', labelsize=14) \n",
    "axis_font = {'size':'14'}"
   ]
  },
  {
   "cell_type": "markdown",
   "metadata": {},
   "source": [
    "# Heater simulation for tapes 35, 36, 37\n",
    "\n",
    "- The results from the heater experiments are plotted\n",
    "- The peak voltages are choosen with the same time stamp \n",
    "- To properly see the results for each tape you need to refresh the cell"
   ]
  },
  {
   "cell_type": "code",
   "execution_count": 5,
   "metadata": {},
   "outputs": [],
   "source": [
    "def main(file_csv,tape_number,Vheater,current_percent,filename,index,coating):\n",
    "    \n",
    "    # Data base for the file without coating\n",
    "    data_ic_wo = pd.read_csv(file_csv)\n",
    "    #time_ic_wo = data_ic_wo['time']\n",
    "    last_index = len(data_ic_wo['v7_m'])\n",
    "    stop = (last_index)*(0.19984)\n",
    "    time_ic_wo = np.arange(0,stop,0.19984)\n",
    "    Tmax = data_ic_wo['T2_m'][index]\n",
    "    \n",
    "    fig, (ax, axb) = plt.subplots(2)\n",
    "    for i in range(12): \n",
    "        v_wo = np.asarray(data_ic_wo[f'v{i+1}_m'])\n",
    "        ax.plot(time_ic_wo,(v_wo-v_wo[0])/1e-3,label = f'V{i+1}')\n",
    "\n",
    "    ax.set_xlabel('Time (s)',**axis_font)\n",
    "    ax.set_ylabel('Voltage (mV)',**axis_font)\n",
    "    #ax.set_ylim(-1,6)\n",
    "    ax.legend(labelspacing=0.001,ncol=3,loc='best',prop={'size':12}) \n",
    "    ax.grid()\n",
    "\n",
    "    ax2 = ax.twinx()\n",
    "    ax2.plot(time_ic_wo,data_ic_wo['T2_m'],'--k')\n",
    "    ax2.plot(time_ic_wo[index],data_ic_wo['T2_m'][index],'o', color = 'purple' )\n",
    "    ax2.set_ylabel('Temperature (K)',**axis_font)\n",
    "    #ax2.set_ylim(70,max(data_ic_wo['T2_m'])+20)\n",
    "    ax2.set_ylim(50,450)\n",
    "    plt.title(f'Tape {tape_number} '+coating+f' VOx coating {current_percent} A, Heater {Vheater} V',**axis_font)\n",
    "    #plt.tight_layout()\n",
    "    #plt.show()\n",
    "    \n",
    "    #max_T, max_index =  max(data_ic_wo['v7_m']), np.where(data_ic_wo['v7_m'] == max(data_ic_wo['v7_m']))[0][0]\n",
    "\n",
    "    \n",
    "    \n",
    "    max_V = []\n",
    "    for i in range(12):\n",
    "        v_wo = np.asarray(data_ic_wo[f'v{i+1}_m'])\n",
    "        max_V.append(v_wo[index]-v_wo[0]) # maximum voltage independent of the temperature\n",
    "    max_V = np.array(max_V)\n",
    "    \n",
    "    \n",
    "    section = np.arange(12)+1\n",
    "    axb.plot(section,max_V/1E-3,'-o',color = 'purple',label = coating+f'_VOx T = {Tmax} K')\n",
    "\n",
    "    #for i in range(len(data_w)):\n",
    "    #    plt.plot(data_w[i][:-1]/1E-6,'-o',label = f'w_VOx {data_w[i][-1]}V')\n",
    "    axb.set_ylim(-1,6)\n",
    "    axb.set_xlabel('Section',**axis_font)\n",
    "    axb.set_ylabel('Peak voltage (mV)',**axis_font)\n",
    "    #axb.set_title(f'Heater ({current_percent}) tape {tape_number}',**axis_font)\n",
    "    axb.legend(labelspacing=0.001,ncol=2,loc='upper left',prop={'family':'Times New Roman', 'size':12}) \n",
    "    plt.tight_layout()\n",
    "    axb.grid()\n",
    "    \n",
    "    fig = matplotlib.pyplot.gcf()\n",
    "    fig.set_size_inches(9, 7)\n",
    "    #plt.savefig(f'heater_t{tape_number}_{current_percent}_maxv7.png')\n",
    "    plt.subplots_adjust(wspace=0, hspace=0.3)\n",
    "    plt.show()\n",
    "\n",
    "def read_file(filename):\n",
    "    with open(filename) as f:\n",
    "        lines_after_first = f.readlines()[1:]\n",
    "        data = []\n",
    "        for line in lines_after_first:\n",
    "            tmp = [float(x) for x in line.split('\\t ')]\n",
    "            data.append(tmp)\n",
    "    data = np.asanyarray(data)\n",
    "    return data\n",
    "\n",
    "def v_profile(index):\n",
    "    '''\n",
    "    tape_number = 35\n",
    "    current_percent = 80\n",
    "    filename = f'Tape {tape_number} heater {current_percent} A peak voltages without coating.txt'\n",
    "    \n",
    "    Vheater = 6 #[6,6,6.5,7,8,8.5,9]\n",
    "    #file_csv = 'tape35_w_cu_thin29_2020-02-07-15-10-13.csv'\n",
    "    '''\n",
    "    main(file_csv,tape_number,Vheater,current_percent,filename,index,coating)\n",
    "    \n"
   ]
  },
  {
   "cell_type": "code",
   "execution_count": 82,
   "metadata": {
    "scrolled": false
   },
   "outputs": [
    {
     "data": {
      "application/vnd.jupyter.widget-view+json": {
       "model_id": "5773bef6f37147938283589d20a11f32",
       "version_major": 2,
       "version_minor": 0
      },
      "text/plain": [
       "interactive(children=(IntSlider(value=1, description='index', max=2784), Output()), _dom_classes=('widget-inte…"
      ]
     },
     "metadata": {},
     "output_type": "display_data"
    },
    {
     "data": {
      "text/plain": [
       "<function __main__.v_profile(index)>"
      ]
     },
     "execution_count": 82,
     "metadata": {},
     "output_type": "execute_result"
    }
   ],
   "source": [
    "%matplotlib inline\n",
    "\n",
    "tape_number = 35\n",
    "current_percent = 80\n",
    "coating = 'wo'\n",
    "filename = f'Tape {tape_number} heater {current_percent} A peak voltages without coating.txt'\n",
    "    \n",
    "Vheater = 8.5 \n",
    "file_csv = 'tape35_w_cu_thin29_2020-02-07-15-53-26.csv'\n",
    "\n",
    "data_ic_wo = pd.read_csv(file_csv)\n",
    "stop = len(data_ic_wo['T2_m'])-1\n",
    "interact(v_profile, index = widgets.IntSlider(value=1,\n",
    "                                               min=0,\n",
    "                                               max=stop,\n",
    "                                               step=1))\n"
   ]
  },
  {
   "cell_type": "code",
   "execution_count": 83,
   "metadata": {},
   "outputs": [
    {
     "data": {
      "application/vnd.jupyter.widget-view+json": {
       "model_id": "1a6a3b4c1491464fb2d2ab78ca38f107",
       "version_major": 2,
       "version_minor": 0
      },
      "text/plain": [
       "interactive(children=(IntSlider(value=1, description='index', max=785), Output()), _dom_classes=('widget-inter…"
      ]
     },
     "metadata": {},
     "output_type": "display_data"
    },
    {
     "data": {
      "text/plain": [
       "<function __main__.v_profile(index)>"
      ]
     },
     "execution_count": 83,
     "metadata": {},
     "output_type": "execute_result"
    }
   ],
   "source": [
    "\n",
    "tape_number = 36\n",
    "current_percent = 80\n",
    "filename = f'Tape {tape_number} heater {current_percent} A peak voltages without coating.txt'\n",
    "    \n",
    "Vheater = 8.5 \n",
    "file_csv = 'tape36_w_cu_thin_2020-02-10-15-24-38.csv'\n",
    "\n",
    "data_ic_wo = pd.read_csv(file_csv)\n",
    "stop = len(data_ic_wo['T2_m'])-1\n",
    "interact(v_profile, index = widgets.IntSlider(value=1,\n",
    "                                               min=0,\n",
    "                                               max=stop,\n",
    "                                               step=1))"
   ]
  },
  {
   "cell_type": "code",
   "execution_count": 84,
   "metadata": {},
   "outputs": [
    {
     "data": {
      "application/vnd.jupyter.widget-view+json": {
       "model_id": "",
       "version_major": 2,
       "version_minor": 0
      },
      "text/plain": [
       "interactive(children=(IntSlider(value=1, description='index', max=633), Output()), _dom_classes=('widget-inter…"
      ]
     },
     "metadata": {},
     "output_type": "display_data"
    },
    {
     "data": {
      "text/plain": [
       "<function __main__.v_profile(index)>"
      ]
     },
     "execution_count": 84,
     "metadata": {},
     "output_type": "execute_result"
    }
   ],
   "source": [
    "tape_number = 37\n",
    "current_percent = 80\n",
    "filename = f'Tape {tape_number} heater {current_percent} A peak voltages without coating.txt'\n",
    "    \n",
    "Vheater = 8.5 \n",
    "file_csv = 'tape37_w_cu_thin_2020-02-11-16-04-13.csv'\n",
    "\n",
    "data_ic_wo = pd.read_csv(file_csv)\n",
    "stop = len(data_ic_wo['T2_m'])-1\n",
    "interact(v_profile, index = widgets.IntSlider(value=1,\n",
    "                                               min=0,\n",
    "                                               max=stop,\n",
    "                                               step=1))"
   ]
  },
  {
   "cell_type": "code",
   "execution_count": 87,
   "metadata": {},
   "outputs": [
    {
     "data": {
      "application/vnd.jupyter.widget-view+json": {
       "model_id": "f01ad111549e470ba733b5a64c22ec64",
       "version_major": 2,
       "version_minor": 0
      },
      "text/plain": [
       "interactive(children=(IntSlider(value=1, description='index', max=815), Output()), _dom_classes=('widget-inter…"
      ]
     },
     "metadata": {},
     "output_type": "display_data"
    },
    {
     "data": {
      "text/plain": [
       "<function __main__.v_profile(index)>"
      ]
     },
     "execution_count": 87,
     "metadata": {},
     "output_type": "execute_result"
    }
   ],
   "source": [
    "tape_number = 36\n",
    "current_percent = 80\n",
    "filename = f'Tape {tape_number} heater {current_percent} A peak voltages without coating.txt'\n",
    "    \n",
    "Vheater = 8.5\n",
    "file_csv = 'tape36_w_cu_coating_2020-02-12-15-06-43.csv'\n",
    "\n",
    "data_ic_wo = pd.read_csv(file_csv)\n",
    "stop = len(data_ic_wo['T2_m'])-1\n",
    "interact(v_profile, index = widgets.IntSlider(value=1,\n",
    "                                               min=0,\n",
    "                                               max=stop,\n",
    "                                               step=1))"
   ]
  },
  {
   "cell_type": "code",
   "execution_count": null,
   "metadata": {},
   "outputs": [],
   "source": []
  }
 ],
 "metadata": {
  "kernelspec": {
   "display_name": "Python 3",
   "language": "python",
   "name": "python3"
  },
  "language_info": {
   "codemirror_mode": {
    "name": "ipython",
    "version": 3
   },
   "file_extension": ".py",
   "mimetype": "text/x-python",
   "name": "python",
   "nbconvert_exporter": "python",
   "pygments_lexer": "ipython3",
   "version": "3.7.1"
  }
 },
 "nbformat": 4,
 "nbformat_minor": 2
}
